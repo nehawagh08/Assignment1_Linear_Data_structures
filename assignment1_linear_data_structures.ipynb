{
 "cells": [
  {
   "cell_type": "code",
   "execution_count": 6,
   "id": "3ab1d2f5",
   "metadata": {},
   "outputs": [
    {
     "name": "stdout",
     "output_type": "stream",
     "text": [
      "1 2 3 4 5 6 7 8 9\n",
      "10\n",
      "2 8\n",
      "3 7\n",
      "4 6\n"
     ]
    }
   ],
   "source": [
    "#Q1 Write a program to find all pairs of an integer array whose sum is equal to a given number?\n",
    "a=list(map(int,input().split()))\n",
    "n=int(input())\n",
    "for i in range(0,len(arr)):\n",
    "    for j in range(i+1,len(arr)):\n",
    "        if a[i]+a[j]==n:\n",
    "            print(a[i],a[j],end=\"\\n\")"
   ]
  },
  {
   "cell_type": "code",
   "execution_count": 6,
   "id": "a3c50bbd",
   "metadata": {},
   "outputs": [
    {
     "name": "stdout",
     "output_type": "stream",
     "text": [
      "1 2 3 4 5 6 7 8 9\n",
      "[9, 8, 7, 6, 5, 4, 3, 2, 1]\n"
     ]
    }
   ],
   "source": [
    "#Q2. Write a program to reverse an array in place? In place means you cannot create a new array. You have to update the original array.\n",
    "a=list(map(int,input().split()))\n",
    "i=0\n",
    "j=len(a)-1\n",
    "while i<j:\n",
    "    temp=a[i]\n",
    "    a[i]=a[j]\n",
    "    a[j]=temp\n",
    "    i+=1\n",
    "    j-=1\n",
    "print(a)"
   ]
  },
  {
   "cell_type": "code",
   "execution_count": 21,
   "id": "e0af1532",
   "metadata": {},
   "outputs": [
    {
     "name": "stdout",
     "output_type": "stream",
     "text": [
      "Rotation\n",
      "noitator\n",
      "Rotation and noitator are a rotation of each other\n"
     ]
    }
   ],
   "source": [
    "#Q3. Write a program to check if two strings are a rotation of each other?\n",
    "st1=input()\n",
    "st2=input()\n",
    "flag=0\n",
    "if len(st1)!=len(st2):\n",
    "    flag=0\n",
    "stack=[]\n",
    "for i in st1:\n",
    "    stack.append(i)\n",
    "\n",
    "for j in st2:\n",
    "    while len(stack)!=0:\n",
    "        if j==stack.pop() and len(stack)!=0:\n",
    "            flag=1\n",
    "if flag:\n",
    "    print(st1,\"and\",st2,\"are a rotation of each other\")\n",
    "else:\n",
    "    print(st1,\"and\",st2,\"are not a rotation of each other\")"
   ]
  },
  {
   "cell_type": "code",
   "execution_count": 34,
   "id": "0e127377",
   "metadata": {},
   "outputs": [
    {
     "name": "stdout",
     "output_type": "stream",
     "text": [
      "nehaaa\n",
      "n\n"
     ]
    }
   ],
   "source": [
    "#Q4. Write a program to print the first non-repeated character from a string?\n",
    "st=input()\n",
    "st2=[]\n",
    "\n",
    "dic={}\n",
    "for i in st:\n",
    "    if i in dic:\n",
    "        dic[i]+=1\n",
    "    else:\n",
    "        dic[i]=1\n",
    "for i in dic:\n",
    "    if dic[i]==1:\n",
    "        print(i)\n",
    "        break"
   ]
  },
  {
   "cell_type": "code",
   "execution_count": 35,
   "id": "b039a933",
   "metadata": {},
   "outputs": [],
   "source": [
    "#Q5. Read about the Tower of Hanoi algorithm. Write a program to implement it.\n",
    "class Stack:\n",
    "    def __init__(self):\n",
    "        self.items = []\n",
    "\n",
    "    def push(self, item):\n",
    "        self.items.append(item)\n",
    "\n",
    "    def pop(self):\n",
    "        if not self.is_empty():\n",
    "            return self.items.pop()\n",
    "\n",
    "    def peek(self):\n",
    "        if not self.is_empty():\n",
    "            return self.items[-1]\n",
    "\n",
    "    def is_empty(self):\n",
    "        return len(self.items) == 0\n",
    "\n",
    "def tower_of_hanoi_stack(n, source, auxiliary, target):\n",
    "    source_stack = Stack()\n",
    "    auxiliary_stack = Stack()\n",
    "    target_stack = Stack()\n",
    "\n",
    "    for i in range(n, 0, -1):\n",
    "        source_stack.push(i)\n",
    "\n",
    "    def move_disk(from_stack, to_stack, from_peg, to_peg):\n",
    "        disk = from_stack.pop()\n",
    "        to_stack.push(disk)\n",
    "        print(f\"Move disk {disk} from {from_peg} to {to_peg}\")\n",
    "\n",
    "    def hanoi(n, source, auxiliary, target):\n",
    "        if n == 1:\n",
    "            move_disk(source, target, source_peg, target_peg)\n",
    "        else:\n",
    "            hanoi(n - 1, source, target, auxiliary)\n",
    "            move_disk(source, target, source_peg, target_peg)\n",
    "            hanoi(n - 1, auxiliary, source, target)\n",
    "\n",
    "    source_peg = source\n",
    "    auxiliary_peg = auxiliary\n",
    "    target_peg = target\n",
    "\n",
    "    hanoi(n, source_stack, auxiliary_stack, target_stack)\n",
    "\n",
    "num_disks = 3\n",
    "tower_of_hanoi_stack(num_disks, 'A', 'B', 'C')\n"
   ]
  },
  {
   "cell_type": "code",
   "execution_count": 41,
   "id": "455c4a47",
   "metadata": {},
   "outputs": [
    {
     "name": "stdout",
     "output_type": "stream",
     "text": [
      "354*+\n",
      "Prefix: +3*54\n"
     ]
    }
   ],
   "source": [
    "#Q6. Read about infix, prefix, and postfix expressions. Write a program to convert postfix to prefix expression.\n",
    "def postfix_to_prefix(postfix_expression):\n",
    "    stack = []\n",
    "    operators = set(['+', '-', '*', '/', '^'])\n",
    "\n",
    "    for symbol in postfix_expression:\n",
    "        if symbol not in operators:\n",
    "            stack.append(symbol)\n",
    "        else:\n",
    "            operand2 = stack.pop()\n",
    "            operand1 = stack.pop()\n",
    "            expression = symbol + operand1 + operand2\n",
    "            stack.append(expression)\n",
    "\n",
    "    return stack[0]\n",
    "\n",
    "postfix_exp =input()\n",
    "prefix_exp = postfix_to_prefix(postfix_exp)\n",
    "\n",
    "print(\"Prefix:\", prefix_exp)"
   ]
  },
  {
   "cell_type": "code",
   "execution_count": 43,
   "id": "86edb9f8",
   "metadata": {},
   "outputs": [
    {
     "name": "stdout",
     "output_type": "stream",
     "text": [
      "+*/2345\n",
      "Infix: (((2/3)*4)+5)\n"
     ]
    }
   ],
   "source": [
    "#Q7. Write a program to convert prefix expression to infix expression.\n",
    "def is_operator(char):\n",
    "    operators = set(['+', '-', '*', '/', '^'])\n",
    "    return char in operators\n",
    "\n",
    "def prefix_to_infix(prefix_expression):\n",
    "    stack = []\n",
    "\n",
    "    for symbol in reversed(prefix_expression):\n",
    "        if not is_operator(symbol):\n",
    "            stack.append(symbol)\n",
    "        else:\n",
    "            operand1 = stack.pop()\n",
    "            operand2 = stack.pop()\n",
    "            expression = \"(\" + operand1 + symbol + operand2 + \")\"\n",
    "            stack.append(expression)\n",
    "\n",
    "    return stack[0]\n",
    "\n",
    "prefix_exp =input()\n",
    "infix_exp = prefix_to_infix(prefix_exp)\n",
    "print(\"Infix:\", infix_exp)"
   ]
  },
  {
   "cell_type": "code",
   "execution_count": 45,
   "id": "088d3c19",
   "metadata": {},
   "outputs": [
    {
     "name": "stdout",
     "output_type": "stream",
     "text": [
      "{{{}}][]][]\n",
      "Brackets are not balanced\n"
     ]
    }
   ],
   "source": [
    "#Q8. Write a program to check if all the brackets are closed in a given code snippet.\n",
    "def are_brackets_balanced(code):\n",
    "    stack = []\n",
    "    brackets = {'(': ')', '[': ']', '{': '}'}\n",
    "\n",
    "    for char in code:\n",
    "        if char in brackets.keys():\n",
    "            stack.append(char)\n",
    "        elif char in brackets.values():\n",
    "            if not stack or brackets[stack.pop()] != char:\n",
    "                return False\n",
    "\n",
    "    return len(stack) == 0\n",
    "\n",
    "code_snippet =input()\n",
    "if are_brackets_balanced(code_snippet):\n",
    "    print(\"Brackets are balanced\")\n",
    "else:\n",
    "    print(\"Brackets are not balanced\")"
   ]
  },
  {
   "cell_type": "code",
   "execution_count": 52,
   "id": "9d399363",
   "metadata": {},
   "outputs": [
    {
     "name": "stdout",
     "output_type": "stream",
     "text": [
      "How many elements you want to push in the stack: 5\n",
      "1\n",
      "2\n",
      "3\n",
      "4\n",
      "5\n",
      "Reversed stack:\n",
      "5 4 3 2 1 "
     ]
    }
   ],
   "source": [
    "#Q9. Write a program to reverse a stack.\n",
    "def reverse_stack(stack):\n",
    "    aux_stack = Stack()\n",
    "\n",
    "    # Create a copy of the original stack\n",
    "    original_copy = Stack()\n",
    "    while not stack.is_empty():\n",
    "        original_copy.push(stack.pop())\n",
    "\n",
    "    # Reverse the elements from the copy to the aux_stack\n",
    "    while not original_copy.is_empty():\n",
    "        aux_stack.push(original_copy.pop())\n",
    "\n",
    "    return aux_stack\n",
    "\n",
    "# Example usage\n",
    "original_stack = Stack()\n",
    "n = int(input(\"How many elements you want to push in the stack: \"))\n",
    "for i in range(n):\n",
    "    original_stack.push(int(input()))\n",
    "\n",
    "reversed_stack = reverse_stack(original_stack)  # Make sure to use a cop\n",
    "print(\"Reversed stack:\")\n",
    "while not reversed_stack.is_empty():\n",
    "    print(reversed_stack.pop(),end=\" \")\n"
   ]
  },
  {
   "cell_type": "code",
   "execution_count": 55,
   "id": "4cded0df",
   "metadata": {},
   "outputs": [
    {
     "name": "stdout",
     "output_type": "stream",
     "text": [
      "How many numbers you want to push in the stack: 5\n",
      "34\n",
      "56\n",
      "78\n",
      "23\n",
      "12\n",
      "The smallest number in the stack is: 12\n"
     ]
    }
   ],
   "source": [
    "#Q10. Write a program to find the smallest number using a stack.\n",
    "class Stack:\n",
    "    def __init__(self):\n",
    "        self.items = []\n",
    "\n",
    "    def push(self, item):\n",
    "        self.items.append(item)\n",
    "\n",
    "    def pop(self):\n",
    "        if not self.is_empty():\n",
    "            return self.items.pop()\n",
    "\n",
    "    def peek(self):\n",
    "        if not self.is_empty():\n",
    "            return self.items[-1]\n",
    "\n",
    "    def is_empty(self):\n",
    "        return len(self.items) == 0\n",
    "\n",
    "    def size(self):\n",
    "        return len(self.items)\n",
    "\n",
    "def find_smallest_number(stack):\n",
    "    if stack.is_empty():\n",
    "        return None\n",
    "\n",
    "    smallest = stack.pop()\n",
    "\n",
    "    while not stack.is_empty():\n",
    "        current = stack.pop()\n",
    "        if current < smallest:\n",
    "            smallest = current\n",
    "\n",
    "    return smallest\n",
    "\n",
    "number_stack = Stack()\n",
    "n = int(input(\"How many numbers you want to push in the stack: \"))\n",
    "for i in range(n):\n",
    "    number_stack.push(int(input()))\n",
    "\n",
    "smallest = find_smallest_number(number_stack)\n",
    "if smallest is not None:\n",
    "    print(\"The smallest number in the stack is:\", smallest)\n",
    "else:\n",
    "    print(\"The stack is empty.\")\n"
   ]
  },
  {
   "cell_type": "code",
   "execution_count": null,
   "id": "3d4eb412",
   "metadata": {},
   "outputs": [],
   "source": []
  }
 ],
 "metadata": {
  "kernelspec": {
   "display_name": "Python 3 (ipykernel)",
   "language": "python",
   "name": "python3"
  },
  "language_info": {
   "codemirror_mode": {
    "name": "ipython",
    "version": 3
   },
   "file_extension": ".py",
   "mimetype": "text/x-python",
   "name": "python",
   "nbconvert_exporter": "python",
   "pygments_lexer": "ipython3",
   "version": "3.10.9"
  }
 },
 "nbformat": 4,
 "nbformat_minor": 5
}
